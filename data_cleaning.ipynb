{
 "cells": [
  {
   "cell_type": "code",
   "execution_count": null,
   "id": "ad7a62d1-0d65-4c9c-b0da-6ee671cfc50d",
   "metadata": {},
   "outputs": [],
   "source": [
    "import pandas as pd\n",
    "import matplotlib.pyplot as plt\n",
    "import seaborn as sns\n",
    "import numpy as np\n",
    "import re\n",
    "\n",
    "pd.set_option('display.max_columns', None)\n",
    "pd.set_option('display.max_rows', None)"
   ]
  },
  {
   "cell_type": "code",
   "execution_count": null,
   "id": "4eedb5d3-9854-471b-8c3f-345b5d37b1b0",
   "metadata": {},
   "outputs": [],
   "source": [
    "df = pd.read_csv('Winni Reports.csv')\n",
    "df.head(10)"
   ]
  },
  {
   "cell_type": "code",
   "execution_count": null,
   "id": "0dde54f7-1c1d-4c26-a1f1-cf91957b5d9c",
   "metadata": {},
   "outputs": [],
   "source": [
    "df.shape"
   ]
  },
  {
   "cell_type": "code",
   "execution_count": null,
   "id": "2afd53e6-8cf4-4706-9648-62c5f8177c69",
   "metadata": {},
   "outputs": [],
   "source": [
    "df.dtypes"
   ]
  },
  {
   "cell_type": "code",
   "execution_count": null,
   "id": "32610eda-ea71-4f03-ae64-307303d8d8bf",
   "metadata": {},
   "outputs": [],
   "source": [
    "df.isnull().sum()"
   ]
  },
  {
   "cell_type": "code",
   "execution_count": null,
   "id": "4a4a65f8-bbea-47e0-8797-492a12945639",
   "metadata": {},
   "outputs": [],
   "source": [
    "def rough_location(col):\n",
    "    name_list = []\n",
    "    directions = ['east', 'west', 'north', 'south', 'of']\n",
    "\n",
    "    for i in col.split():\n",
    "        if i not in directions:\n",
    "            name_list.append(i)\n",
    "    return ' '.join(name_list)"
   ]
  },
  {
   "cell_type": "code",
   "execution_count": null,
   "id": "abd65a10-7f63-4b6b-a5cc-a3e3d33254c1",
   "metadata": {},
   "outputs": [],
   "source": [
    "df['location2'] = df['location'].map(lambda x: rough_location(x))"
   ]
  },
  {
   "cell_type": "code",
   "execution_count": null,
   "id": "8e4a2160-b256-4def-a674-07b521bcc16f",
   "metadata": {},
   "outputs": [],
   "source": [
    "df['date'] = pd.to_datetime(df['date'])"
   ]
  },
  {
   "cell_type": "code",
   "execution_count": null,
   "id": "bf44c596-0959-4357-9120-e59d9ca4684b",
   "metadata": {},
   "outputs": [],
   "source": [
    "df.loc[(df['wind_dir'] == 'ene')]"
   ]
  },
  {
   "cell_type": "code",
   "execution_count": null,
   "id": "afd0c38a-9570-49d4-8961-f0695f000427",
   "metadata": {},
   "outputs": [],
   "source": [
    "df.at[320,'wind_dir']= 'ne'"
   ]
  },
  {
   "cell_type": "code",
   "execution_count": null,
   "id": "551ee7bc-471d-480a-9bfd-e97b76e3ddda",
   "metadata": {},
   "outputs": [],
   "source": [
    "def change_fish_type(fish):\n",
    "    if fish == 'small mouth bass':\n",
    "        return 'smallmouth'\n",
    "    elif fish == 'salmon ':\n",
    "        return 'salmon'\n",
    "    elif fish == 'lake trout ':\n",
    "        return 'lake trout'\n",
    "    return fish\n",
    "\n",
    "df['fish_type'] = df['fish_type'].map(change_fish_type)"
   ]
  },
  {
   "cell_type": "code",
   "execution_count": null,
   "id": "207c2bc2-5c1d-4b2f-8784-b324d57d4d47",
   "metadata": {},
   "outputs": [],
   "source": [
    "sns.boxplot(x = df['fish_length_in']);"
   ]
  },
  {
   "cell_type": "code",
   "execution_count": null,
   "id": "7daff0d7-e9bf-480a-9544-e4ad2cb879ba",
   "metadata": {},
   "outputs": [],
   "source": [
    "sns.boxplot(x = df['water_depth_ft']);"
   ]
  },
  {
   "cell_type": "code",
   "execution_count": null,
   "id": "5c6bc8ed-b26c-4e8a-9740-17a48a7d354a",
   "metadata": {
    "tags": []
   },
   "outputs": [],
   "source": [
    "df.loc[df['year'] == '14:30']"
   ]
  },
  {
   "cell_type": "code",
   "execution_count": null,
   "id": "abdb041f-666c-4539-afaf-3e9b5140d9c2",
   "metadata": {},
   "outputs": [],
   "source": [
    "df.loc[df['year'] == '7:40']"
   ]
  },
  {
   "cell_type": "code",
   "execution_count": null,
   "id": "8b73a08a-3725-4b17-9f7d-670b146cac2f",
   "metadata": {},
   "outputs": [],
   "source": [
    "df = df.drop(columns = 'thermocline_depth_ft')"
   ]
  },
  {
   "cell_type": "code",
   "execution_count": null,
   "id": "782c0b87-684c-41e3-85fd-05a07a44c259",
   "metadata": {},
   "outputs": [],
   "source": [
    "def change_weather(condition):\n",
    "    if condition == 'calm' or condition == 'partly sunny' or condition == 'slight wind':\n",
    "        return 'sunny'\n",
    "    elif condition == 'rainy':\n",
    "        return 'raining'\n",
    "    elif condition == 'cloudy':\n",
    "        return 'overcast'\n",
    "    return condition\n",
    "\n",
    "df['weather'] = df['weather'].map(change_weather)"
   ]
  },
  {
   "cell_type": "code",
   "execution_count": null,
   "id": "c08a6440-500f-41cc-8b13-11b28055e1d7",
   "metadata": {},
   "outputs": [],
   "source": [
    "df['time2'] = pd.to_datetime(df['time'])\n",
    "#df['time2'] = df['time2'].dt.time"
   ]
  },
  {
   "cell_type": "code",
   "execution_count": null,
   "id": "6230a0b6-20c8-40ab-a108-c5ad03bf1278",
   "metadata": {},
   "outputs": [],
   "source": [
    "#df.iloc[451, df.columns.get_loc('skunked')] = True"
   ]
  },
  {
   "cell_type": "code",
   "execution_count": null,
   "id": "337a61f1-fb17-40e0-8078-d69d18eb1292",
   "metadata": {},
   "outputs": [],
   "source": [
    "#df['lines_in'] = pd.to_datetime(df['lines_in'])\n",
    "#df['lines_in'] = df['lines_in'].dt.time"
   ]
  },
  {
   "cell_type": "code",
   "execution_count": null,
   "id": "18e97a93-20f6-45bc-9218-2c9ca61b4115",
   "metadata": {},
   "outputs": [],
   "source": [
    "#df['lines_out'] = pd.to_datetime(df['lines_out'])\n",
    "#df['lines_out'] = df['lines_out'].dt.time"
   ]
  },
  {
   "cell_type": "code",
   "execution_count": null,
   "id": "9463d9b1-f7e5-4bd2-b1a5-2c87704be672",
   "metadata": {},
   "outputs": [],
   "source": [
    "df['duration'] =  pd.to_datetime(df['duration'])\n",
    "df['minutes'] = df['duration'].dt.hour * 60 + df['duration'].dt.minute + df['duration'].dt.second/60\n",
    "df.drop(columns = 'duration', inplace = True)\n",
    "df.head()"
   ]
  },
  {
   "cell_type": "markdown",
   "id": "f13ae682-022a-4d7f-b53a-e6d89e719bc8",
   "metadata": {},
   "source": [
    "## Imputing NaNs"
   ]
  },
  {
   "cell_type": "code",
   "execution_count": null,
   "id": "79837ca3-8c83-492a-935e-c6d640d0ae28",
   "metadata": {},
   "outputs": [],
   "source": [
    "df.dtypes"
   ]
  },
  {
   "cell_type": "code",
   "execution_count": null,
   "id": "4ae54560-1311-41b4-9b1f-9c9174f15462",
   "metadata": {},
   "outputs": [],
   "source": [
    "df.isnull().sum()"
   ]
  },
  {
   "cell_type": "code",
   "execution_count": null,
   "id": "eee83f4e-0dce-4f34-8f48-7cc3c4a0397c",
   "metadata": {},
   "outputs": [],
   "source": [
    "df['month'] = df['date'].dt.month\n",
    "df.head()"
   ]
  },
  {
   "cell_type": "code",
   "execution_count": null,
   "id": "67148979-d301-4c52-a676-ee02bebaaa5a",
   "metadata": {},
   "outputs": [],
   "source": [
    "air_temp_dict = df.groupby('month')['air_temp_f'].mean().to_dict()\n",
    "df['air_temp_f'] = df['air_temp_f'].fillna(df['month'].map(air_temp_dict))\n",
    "water_temp_dict = df.groupby('month')['water_temp_f'].mean().to_dict()\n",
    "df['water_temp_f'] = df['water_temp_f'].fillna(df['month'].map(water_temp_dict))\n",
    "fish_length_dict = df.groupby('fish_type')['fish_length_in'].mean().to_dict()\n",
    "df['fish_length_in'] = df['fish_length_in'].fillna(df['fish_type'].map(fish_length_dict))"
   ]
  },
  {
   "cell_type": "code",
   "execution_count": null,
   "id": "251c2315-0091-4d55-871f-43874bdad445",
   "metadata": {},
   "outputs": [],
   "source": [
    "df['wind_dir'].fillna('no_wind', inplace=True)"
   ]
  },
  {
   "cell_type": "code",
   "execution_count": null,
   "id": "4c89f84c-19db-44e4-a19e-55908a2299ba",
   "metadata": {},
   "outputs": [],
   "source": [
    "df['skunked'].fillna(False, inplace = True)"
   ]
  },
  {
   "cell_type": "code",
   "execution_count": null,
   "id": "0863ae0a-60fe-4055-a346-7580eb05c791",
   "metadata": {},
   "outputs": [],
   "source": [
    "df['weather'].fillna('no_weather_recorded', inplace = True)\n",
    "df['time'].fillna('no_time_recorded', inplace = True)\n",
    "df['fish_type'].fillna('no_fish_caught', inplace = True)\n",
    "#df['fish_length_in'].fillna('no_recording', inplace = True)\n",
    "#df['water_depth_ft'].fillna('no_fish_caught', inplace = True)"
   ]
  },
  {
   "cell_type": "code",
   "execution_count": null,
   "id": "99e242af-6add-410b-b07d-f6bbdb1d933b",
   "metadata": {},
   "outputs": [],
   "source": [
    "df.rename(columns = {'minutes': 'duration_min', 'location2': 'general_loc', 'time':'time_caught'}, inplace = True)\n",
    "df.drop(columns = 'time2', inplace = True)"
   ]
  },
  {
   "cell_type": "code",
   "execution_count": null,
   "id": "dcf7651f-2d2a-4f2f-a25d-ccf63aed0d68",
   "metadata": {},
   "outputs": [],
   "source": [
    "df['hour'] = df['time_caught'].map(lambda x:re.search(r'.*(?=:)',x)[0] if x != 'no_time_recorded' else 0)"
   ]
  },
  {
   "cell_type": "code",
   "execution_count": null,
   "id": "e10578ed-2b1e-4e75-a5f2-1465e24a80ad",
   "metadata": {},
   "outputs": [],
   "source": [
    "df['hour'] = df['hour'].astype(int)"
   ]
  },
  {
   "cell_type": "code",
   "execution_count": null,
   "id": "4716736f-b081-48b3-abe6-87020c8ac7c6",
   "metadata": {},
   "outputs": [],
   "source": [
    "df['time_caught_bucket'] = pd.cut(df['hour'], bins=range(5, 18, 2), right=False)"
   ]
  },
  {
   "cell_type": "code",
   "execution_count": null,
   "id": "3eb4a51b-4623-4132-96ca-563e0d18cbe7",
   "metadata": {},
   "outputs": [],
   "source": [
    "df.head()"
   ]
  },
  {
   "cell_type": "code",
   "execution_count": null,
   "id": "9606195c-92cb-41db-b6c5-1e824dd5d479",
   "metadata": {},
   "outputs": [],
   "source": [
    "df.dtypes"
   ]
  },
  {
   "cell_type": "code",
   "execution_count": null,
   "id": "83887e0d-256d-4ec7-b9ef-fe119f354cb8",
   "metadata": {},
   "outputs": [],
   "source": [
    "df2 = df.loc[(df['water_depth_ft'] != 'no_fish_caught')]\n",
    "\n",
    "df2['water_depth_ft'] = df2['water_depth_ft'].astype(float)\n",
    "\n",
    "df2['month'] = df2['month'].astype(str)\n",
    "\n",
    "df2['fish_type_month'] = df2['fish_type']  + '_' + df2['month']\n",
    "\n",
    "df2['month'] = df2['month'].astype(int)\n",
    "\n",
    "df2.head()"
   ]
  },
  {
   "cell_type": "code",
   "execution_count": null,
   "id": "5155ae09-503f-4b09-a13d-67f26ada25f1",
   "metadata": {},
   "outputs": [],
   "source": [
    "df['water_depth_ft'].value_counts()"
   ]
  },
  {
   "cell_type": "code",
   "execution_count": null,
   "id": "56d82bb1-0363-44bd-b93b-1ce36b5c88fe",
   "metadata": {},
   "outputs": [],
   "source": [
    "df_water_depth = df.loc[df['water_depth_ft'].isnull() == False]\n",
    "df_water_depth['water_depth_ft'] = df_water_depth['water_depth_ft'].astype(float)\n",
    "water_depth_dict = df_water_depth.groupby('fish_type')['water_depth_ft'].mean().to_dict()\n",
    "water_depth_dict"
   ]
  },
  {
   "cell_type": "code",
   "execution_count": null,
   "id": "fac5087c-bde0-47ee-91d5-f1b8df33bb04",
   "metadata": {},
   "outputs": [],
   "source": [
    "df['water_depth_ft'] = df['water_depth_ft'].fillna(df['fish_type'].map(water_depth_dict))"
   ]
  },
  {
   "cell_type": "code",
   "execution_count": null,
   "id": "83462397-f308-45e6-9398-7d767a3280e8",
   "metadata": {},
   "outputs": [],
   "source": [
    "df['water_depth_ft'].fillna(0, inplace = True)"
   ]
  },
  {
   "cell_type": "code",
   "execution_count": null,
   "id": "4be56a47-7ca5-4b14-bb40-dc2e80f8466e",
   "metadata": {},
   "outputs": [],
   "source": [
    "df['year'].value_counts()"
   ]
  },
  {
   "cell_type": "code",
   "execution_count": null,
   "id": "eb54304a-3350-453b-ad61-e1df55c24c46",
   "metadata": {},
   "outputs": [],
   "source": [
    "df.dtypes"
   ]
  },
  {
   "cell_type": "code",
   "execution_count": null,
   "id": "473fce9a-3c50-4673-927e-9e74ec589c40",
   "metadata": {},
   "outputs": [],
   "source": [
    "df_fish_len = df.loc[df['fish_length_in'] != 'no_recording']\n",
    "df_fish_len['fish_length_in'] = df_fish_len['fish_length_in'].astype(float)\n",
    "fish_len_dict = df_fish_len.groupby('fish_type')['fish_length_in'].mean().to_dict()\n",
    "fish_len_dict"
   ]
  },
  {
   "cell_type": "code",
   "execution_count": null,
   "id": "12709594-95bc-4b4d-a12c-63f49cf4a62c",
   "metadata": {},
   "outputs": [],
   "source": [
    "df['fish_length_in'] = df['fish_length_in'].fillna(df['fish_type'].map(fish_len_dict))"
   ]
  },
  {
   "cell_type": "code",
   "execution_count": null,
   "id": "92dd1350-d940-4c84-bd9b-3ab6fd3f77b4",
   "metadata": {},
   "outputs": [],
   "source": [
    "df['fish_length_in'].fillna(0, inplace = True)"
   ]
  },
  {
   "cell_type": "code",
   "execution_count": null,
   "id": "f825cb94-b25a-49e5-9124-f7c92b5c9a25",
   "metadata": {},
   "outputs": [],
   "source": [
    "df['fish_length_in'] = df['fish_length_in'].astype(float)"
   ]
  },
  {
   "cell_type": "code",
   "execution_count": null,
   "id": "d3b5d643-9614-46e2-bc96-42dceda81fe6",
   "metadata": {},
   "outputs": [],
   "source": [
    "df['location'].value_counts()"
   ]
  },
  {
   "cell_type": "code",
   "execution_count": null,
   "id": "41b28a00-1603-419e-937d-b47f8e1be20f",
   "metadata": {},
   "outputs": [],
   "source": [
    "df.to_csv('./model_data/winni_reports.csv')"
   ]
  },
  {
   "cell_type": "code",
   "execution_count": null,
   "id": "9bad82ff-8c66-4e07-b3a7-3001d26020dc",
   "metadata": {},
   "outputs": [],
   "source": [
    "df['wind_dir'].value_counts()"
   ]
  },
  {
   "cell_type": "code",
   "execution_count": null,
   "id": "b1aed55b-7b1a-4bff-9444-77130971ce29",
   "metadata": {},
   "outputs": [],
   "source": []
  }
 ],
 "metadata": {
  "kernelspec": {
   "display_name": "Python 3 (ipykernel)",
   "language": "python",
   "name": "python3"
  },
  "language_info": {
   "codemirror_mode": {
    "name": "ipython",
    "version": 3
   },
   "file_extension": ".py",
   "mimetype": "text/x-python",
   "name": "python",
   "nbconvert_exporter": "python",
   "pygments_lexer": "ipython3",
   "version": "3.9.7"
  }
 },
 "nbformat": 4,
 "nbformat_minor": 5
}
